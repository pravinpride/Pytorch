{
 "cells": [
  {
   "cell_type": "code",
   "execution_count": 1,
   "id": "0c834959",
   "metadata": {},
   "outputs": [
    {
     "name": "stderr",
     "output_type": "stream",
     "text": [
      "C:\\Users\\pravi\\anaconda3\\envs\\deepl2\\lib\\site-packages\\tqdm\\auto.py:22: TqdmWarning: IProgress not found. Please update jupyter and ipywidgets. See https://ipywidgets.readthedocs.io/en/stable/user_install.html\n",
      "  from .autonotebook import tqdm as notebook_tqdm\n"
     ]
    }
   ],
   "source": [
    "import torch\n",
    "import torch.nn as nn\n",
    "import torch.nn.functional as F\n",
    "import torchvision\n",
    "import torchvision.transforms as transforms\n",
    "import matplotlib.pyplot as plt\n",
    "import numpy as np"
   ]
  },
  {
   "cell_type": "code",
   "execution_count": 2,
   "id": "c7c3e041",
   "metadata": {},
   "outputs": [],
   "source": [
    "device = torch.device('cuda' if torch.cuda.is_available() else 'cpu')"
   ]
  },
  {
   "cell_type": "code",
   "execution_count": 3,
   "id": "aee3d3d5",
   "metadata": {},
   "outputs": [
    {
     "data": {
      "text/plain": [
       "device(type='cpu')"
      ]
     },
     "execution_count": 3,
     "metadata": {},
     "output_type": "execute_result"
    }
   ],
   "source": [
    "device"
   ]
  },
  {
   "cell_type": "code",
   "execution_count": 4,
   "id": "f81acad1",
   "metadata": {},
   "outputs": [],
   "source": [
    "num_epochs = 15\n",
    "batch_size = 4\n",
    "learning_rate =0.001"
   ]
  },
  {
   "cell_type": "code",
   "execution_count": 5,
   "id": "24281102",
   "metadata": {},
   "outputs": [],
   "source": [
    "transform = transforms.Compose(\n",
    "[transforms.ToTensor(),\n",
    "transforms.Normalize((0.5,0.5,0.5),(0.5,0.5,0.5))])"
   ]
  },
  {
   "cell_type": "code",
   "execution_count": 6,
   "id": "96798012",
   "metadata": {},
   "outputs": [
    {
     "name": "stdout",
     "output_type": "stream",
     "text": [
      "Files already downloaded and verified\n"
     ]
    }
   ],
   "source": [
    "train_dataset = torchvision.datasets.CIFAR10(root='data',\n",
    "                                            train=True,\n",
    "                                            download=True,\n",
    "                                            transform=transform)"
   ]
  },
  {
   "cell_type": "code",
   "execution_count": 7,
   "id": "bcedb29f",
   "metadata": {},
   "outputs": [
    {
     "name": "stdout",
     "output_type": "stream",
     "text": [
      "Files already downloaded and verified\n"
     ]
    }
   ],
   "source": [
    "test_dataset = torchvision.datasets.CIFAR10(root='data',\n",
    "                                            train=False,\n",
    "                                            download=True,\n",
    "                                            transform=transform)"
   ]
  },
  {
   "cell_type": "code",
   "execution_count": 8,
   "id": "035558be",
   "metadata": {},
   "outputs": [
    {
     "data": {
      "text/plain": [
       "Dataset CIFAR10\n",
       "    Number of datapoints: 50000\n",
       "    Root location: data\n",
       "    Split: Train\n",
       "    StandardTransform\n",
       "Transform: Compose(\n",
       "               ToTensor()\n",
       "               Normalize(mean=(0.5, 0.5, 0.5), std=(0.5, 0.5, 0.5))\n",
       "           )"
      ]
     },
     "execution_count": 8,
     "metadata": {},
     "output_type": "execute_result"
    }
   ],
   "source": [
    "train_dataset"
   ]
  },
  {
   "cell_type": "code",
   "execution_count": 9,
   "id": "1b1fc81b",
   "metadata": {},
   "outputs": [],
   "source": [
    "train_loader = torch.utils.data.DataLoader(dataset=train_dataset,\n",
    "                                          batch_size=batch_size,\n",
    "                                          shuffle=True)"
   ]
  },
  {
   "cell_type": "code",
   "execution_count": 10,
   "id": "3c30af51",
   "metadata": {},
   "outputs": [
    {
     "data": {
      "text/plain": [
       "torch.Size([4, 3, 32, 32])"
      ]
     },
     "execution_count": 10,
     "metadata": {},
     "output_type": "execute_result"
    }
   ],
   "source": [
    "examples = iter(train_loader)\n",
    "samples ,labels = examples.next()\n",
    "samples.shape"
   ]
  },
  {
   "cell_type": "code",
   "execution_count": 11,
   "id": "f8d1c507",
   "metadata": {},
   "outputs": [],
   "source": [
    "test_loader = torch.utils.data.DataLoader(dataset=test_dataset,\n",
    "                                         batch_size = batch_size,\n",
    "                                         shuffle = False)"
   ]
  },
  {
   "cell_type": "code",
   "execution_count": 12,
   "id": "634b4c01",
   "metadata": {},
   "outputs": [],
   "source": [
    "classes = ('plane','car','bird','cat','deer','dog','frog','horse','ship','truck')"
   ]
  },
  {
   "cell_type": "code",
   "execution_count": 13,
   "id": "4fa7dfb9",
   "metadata": {},
   "outputs": [
    {
     "data": {
      "text/plain": [
       "('plane',\n",
       " 'car',\n",
       " 'bird',\n",
       " 'cat',\n",
       " 'deer',\n",
       " 'dog',\n",
       " 'frog',\n",
       " 'horse',\n",
       " 'ship',\n",
       " 'truck')"
      ]
     },
     "execution_count": 13,
     "metadata": {},
     "output_type": "execute_result"
    }
   ],
   "source": [
    "classes"
   ]
  },
  {
   "cell_type": "code",
   "execution_count": 14,
   "id": "c244b06b",
   "metadata": {},
   "outputs": [],
   "source": [
    "class ConvNet(nn.Module):\n",
    "    def __init__(self):\n",
    "        super(ConvNet,self).__init__()\n",
    "        self.conv1 = nn.Conv2d(3,6,5)\n",
    "        self.pool = nn.MaxPool2d(2,2)\n",
    "        self.conv2 = nn.Conv2d(6,16,5)\n",
    "        self.fc1 = nn.Linear(16*5*5,120)\n",
    "        self.fc2 = nn.Linear(120,84)\n",
    "        self.fc3 = nn.Linear(84,10)\n",
    "    def forward(self,x):\n",
    "        x = self.pool(F.relu(self.conv1(x)))\n",
    "        x = self.pool(F.relu(self.conv2(x)))\n",
    "        x = x.view(-1,16*5*5)\n",
    "        x = F.relu(self.fc1(x))\n",
    "        x = F.relu(self.fc2(x))\n",
    "        x = self.fc3(x)\n",
    "        return x"
   ]
  },
  {
   "cell_type": "code",
   "execution_count": 15,
   "id": "811b2b64",
   "metadata": {},
   "outputs": [],
   "source": [
    "model = ConvNet().to(device)"
   ]
  },
  {
   "cell_type": "code",
   "execution_count": 16,
   "id": "6a47c57f",
   "metadata": {},
   "outputs": [
    {
     "data": {
      "text/plain": [
       "ConvNet(\n",
       "  (conv1): Conv2d(3, 6, kernel_size=(5, 5), stride=(1, 1))\n",
       "  (pool): MaxPool2d(kernel_size=2, stride=2, padding=0, dilation=1, ceil_mode=False)\n",
       "  (conv2): Conv2d(6, 16, kernel_size=(5, 5), stride=(1, 1))\n",
       "  (fc1): Linear(in_features=400, out_features=120, bias=True)\n",
       "  (fc2): Linear(in_features=120, out_features=84, bias=True)\n",
       "  (fc3): Linear(in_features=84, out_features=10, bias=True)\n",
       ")"
      ]
     },
     "execution_count": 16,
     "metadata": {},
     "output_type": "execute_result"
    }
   ],
   "source": [
    "model"
   ]
  },
  {
   "cell_type": "code",
   "execution_count": 17,
   "id": "ab7c1970",
   "metadata": {},
   "outputs": [],
   "source": [
    "criterion = nn.CrossEntropyLoss()\n",
    "optimizer = torch.optim.SGD(model.parameters(),lr=learning_rate)"
   ]
  },
  {
   "cell_type": "code",
   "execution_count": 18,
   "id": "6cafeaf1",
   "metadata": {},
   "outputs": [
    {
     "name": "stdout",
     "output_type": "stream",
     "text": [
      "Epoch [1/15],step [2000/12500],loss: 2.3207\n",
      "Epoch [1/15],step [4000/12500],loss: 2.2885\n",
      "Epoch [1/15],step [6000/12500],loss: 2.2923\n",
      "Epoch [1/15],step [8000/12500],loss: 2.3120\n",
      "Epoch [1/15],step [10000/12500],loss: 2.2849\n",
      "Epoch [1/15],step [12000/12500],loss: 2.3432\n",
      "Epoch [2/15],step [2000/12500],loss: 2.1989\n",
      "Epoch [2/15],step [4000/12500],loss: 2.5534\n",
      "Epoch [2/15],step [6000/12500],loss: 2.1769\n",
      "Epoch [2/15],step [8000/12500],loss: 1.8622\n",
      "Epoch [2/15],step [10000/12500],loss: 2.3364\n",
      "Epoch [2/15],step [12000/12500],loss: 2.4359\n",
      "Epoch [3/15],step [2000/12500],loss: 1.8720\n",
      "Epoch [3/15],step [4000/12500],loss: 1.8214\n",
      "Epoch [3/15],step [6000/12500],loss: 1.3041\n",
      "Epoch [3/15],step [8000/12500],loss: 1.5110\n",
      "Epoch [3/15],step [10000/12500],loss: 1.8302\n",
      "Epoch [3/15],step [12000/12500],loss: 1.1715\n",
      "Epoch [4/15],step [2000/12500],loss: 2.1652\n",
      "Epoch [4/15],step [4000/12500],loss: 1.8550\n",
      "Epoch [4/15],step [6000/12500],loss: 2.4656\n",
      "Epoch [4/15],step [8000/12500],loss: 1.3804\n",
      "Epoch [4/15],step [10000/12500],loss: 1.3633\n",
      "Epoch [4/15],step [12000/12500],loss: 1.2100\n",
      "Epoch [5/15],step [2000/12500],loss: 1.4262\n",
      "Epoch [5/15],step [4000/12500],loss: 2.0877\n",
      "Epoch [5/15],step [6000/12500],loss: 1.0793\n",
      "Epoch [5/15],step [8000/12500],loss: 1.4090\n",
      "Epoch [5/15],step [10000/12500],loss: 2.1428\n",
      "Epoch [5/15],step [12000/12500],loss: 0.8130\n",
      "Epoch [6/15],step [2000/12500],loss: 1.1594\n",
      "Epoch [6/15],step [4000/12500],loss: 1.3542\n",
      "Epoch [6/15],step [6000/12500],loss: 0.9920\n",
      "Epoch [6/15],step [8000/12500],loss: 1.0561\n",
      "Epoch [6/15],step [10000/12500],loss: 1.0074\n",
      "Epoch [6/15],step [12000/12500],loss: 1.5808\n",
      "Epoch [7/15],step [2000/12500],loss: 1.6149\n",
      "Epoch [7/15],step [4000/12500],loss: 1.4705\n",
      "Epoch [7/15],step [6000/12500],loss: 1.0492\n",
      "Epoch [7/15],step [8000/12500],loss: 0.5375\n",
      "Epoch [7/15],step [10000/12500],loss: 2.0534\n",
      "Epoch [7/15],step [12000/12500],loss: 0.2976\n",
      "Epoch [8/15],step [2000/12500],loss: 2.2623\n",
      "Epoch [8/15],step [4000/12500],loss: 0.8571\n",
      "Epoch [8/15],step [6000/12500],loss: 2.3630\n",
      "Epoch [8/15],step [8000/12500],loss: 0.4996\n",
      "Epoch [8/15],step [10000/12500],loss: 0.5741\n",
      "Epoch [8/15],step [12000/12500],loss: 1.6304\n",
      "Epoch [9/15],step [2000/12500],loss: 0.9562\n",
      "Epoch [9/15],step [4000/12500],loss: 0.8846\n",
      "Epoch [9/15],step [6000/12500],loss: 1.8242\n",
      "Epoch [9/15],step [8000/12500],loss: 0.9616\n",
      "Epoch [9/15],step [10000/12500],loss: 1.8365\n",
      "Epoch [9/15],step [12000/12500],loss: 1.9198\n",
      "Epoch [10/15],step [2000/12500],loss: 1.6171\n",
      "Epoch [10/15],step [4000/12500],loss: 0.5822\n",
      "Epoch [10/15],step [6000/12500],loss: 0.4960\n",
      "Epoch [10/15],step [8000/12500],loss: 1.7079\n",
      "Epoch [10/15],step [10000/12500],loss: 1.0585\n",
      "Epoch [10/15],step [12000/12500],loss: 0.9479\n",
      "Epoch [11/15],step [2000/12500],loss: 1.1254\n",
      "Epoch [11/15],step [4000/12500],loss: 0.6901\n",
      "Epoch [11/15],step [6000/12500],loss: 1.6298\n",
      "Epoch [11/15],step [8000/12500],loss: 1.7206\n",
      "Epoch [11/15],step [10000/12500],loss: 0.7584\n",
      "Epoch [11/15],step [12000/12500],loss: 0.7780\n",
      "Epoch [12/15],step [2000/12500],loss: 0.5282\n",
      "Epoch [12/15],step [4000/12500],loss: 3.9461\n",
      "Epoch [12/15],step [6000/12500],loss: 2.2901\n",
      "Epoch [12/15],step [8000/12500],loss: 1.4796\n",
      "Epoch [12/15],step [10000/12500],loss: 0.7713\n",
      "Epoch [12/15],step [12000/12500],loss: 0.5587\n",
      "Epoch [13/15],step [2000/12500],loss: 1.2406\n",
      "Epoch [13/15],step [4000/12500],loss: 1.5925\n",
      "Epoch [13/15],step [6000/12500],loss: 0.8975\n",
      "Epoch [13/15],step [8000/12500],loss: 0.3295\n",
      "Epoch [13/15],step [10000/12500],loss: 2.1999\n",
      "Epoch [13/15],step [12000/12500],loss: 0.4730\n",
      "Epoch [14/15],step [2000/12500],loss: 0.4778\n",
      "Epoch [14/15],step [4000/12500],loss: 1.8075\n",
      "Epoch [14/15],step [6000/12500],loss: 1.2469\n",
      "Epoch [14/15],step [8000/12500],loss: 0.6589\n",
      "Epoch [14/15],step [10000/12500],loss: 1.1385\n",
      "Epoch [14/15],step [12000/12500],loss: 0.7946\n",
      "Epoch [15/15],step [2000/12500],loss: 1.9518\n",
      "Epoch [15/15],step [4000/12500],loss: 0.4656\n",
      "Epoch [15/15],step [6000/12500],loss: 1.4930\n",
      "Epoch [15/15],step [8000/12500],loss: 1.0606\n",
      "Epoch [15/15],step [10000/12500],loss: 1.0415\n",
      "Epoch [15/15],step [12000/12500],loss: 0.9016\n",
      "Finished Traing\n"
     ]
    }
   ],
   "source": [
    "n_total_steps = len(train_loader)\n",
    "for epoch in range(num_epochs):\n",
    "    for i, (images,labels) in enumerate(train_loader):\n",
    "        images = images.to(device)\n",
    "        labels = labels.to(device)\n",
    "        #forward\n",
    "        outputs = model(images)\n",
    "        loss = criterion(outputs,labels)\n",
    "        #backword\n",
    "        optimizer.zero_grad()\n",
    "        loss.backward()\n",
    "        optimizer.step()\n",
    "        if (i+1) % 2000 == 0:\n",
    "            print(f'Epoch [{epoch+1}/{num_epochs}],step [{i+1}/{n_total_steps}],loss: {loss.item():.4f}')\n",
    "print(\"Finished Traing\")"
   ]
  },
  {
   "cell_type": "code",
   "execution_count": 19,
   "id": "9e35b8b3",
   "metadata": {},
   "outputs": [
    {
     "name": "stdout",
     "output_type": "stream",
     "text": [
      "accuracy: 61.64%\n",
      "accuracy of plane:67.7%\n",
      "accuracy of car:72.8%\n",
      "accuracy of bird:39.6%\n",
      "accuracy of cat:34.7%\n",
      "accuracy of deer:55.2%\n",
      "accuracy of dog:53.4%\n",
      "accuracy of frog:80.1%\n",
      "accuracy of horse:66.5%\n",
      "accuracy of ship:75.0%\n",
      "accuracy of truck:71.4%\n"
     ]
    }
   ],
   "source": [
    "with torch.no_grad():\n",
    "    n_correct = 0\n",
    "    n_samples = 0\n",
    "    n_class_correct = [0 for i in range(10)]\n",
    "    n_class_samples = [0 for i in range(10)]\n",
    "    for images,labels in test_loader:\n",
    "        images = images.to(device)\n",
    "        labels = labels.to(device)\n",
    "        outputs = model(images)\n",
    "        _,predicted = torch.max(outputs,1)\n",
    "        n_samples += labels.size(0)\n",
    "        n_correct += (predicted==labels).sum().item()\n",
    "        for i in range(batch_size):\n",
    "            label = labels[i]\n",
    "            pred = predicted[i]\n",
    "            if (label==pred):\n",
    "                n_class_correct[label] +=1\n",
    "            n_class_samples[label]+=1\n",
    "    acc = 100.0 * n_correct/n_samples\n",
    "    print(f'accuracy: {acc}%')\n",
    "    for i in range(10):\n",
    "        acc =100.0 *n_class_correct[i]/n_class_samples[i]\n",
    "        print(f'accuracy of {classes[i]}:{acc}%')"
   ]
  },
  {
   "cell_type": "code",
   "execution_count": 20,
   "id": "ebf963eb",
   "metadata": {},
   "outputs": [
    {
     "data": {
      "text/plain": [
       "4"
      ]
     },
     "execution_count": 20,
     "metadata": {},
     "output_type": "execute_result"
    }
   ],
   "source": [
    "batch_size"
   ]
  },
  {
   "cell_type": "code",
   "execution_count": null,
   "id": "f1783a1c",
   "metadata": {},
   "outputs": [],
   "source": []
  }
 ],
 "metadata": {
  "kernelspec": {
   "display_name": "Python 3",
   "language": "python",
   "name": "python3"
  },
  "language_info": {
   "codemirror_mode": {
    "name": "ipython",
    "version": 3
   },
   "file_extension": ".py",
   "mimetype": "text/x-python",
   "name": "python",
   "nbconvert_exporter": "python",
   "pygments_lexer": "ipython3",
   "version": "3.6.13"
  }
 },
 "nbformat": 4,
 "nbformat_minor": 5
}
