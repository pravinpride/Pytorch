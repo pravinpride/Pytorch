{
 "cells": [
  {
   "cell_type": "code",
   "execution_count": 1,
   "id": "b1bd661c",
   "metadata": {},
   "outputs": [
    {
     "name": "stderr",
     "output_type": "stream",
     "text": [
      "C:\\Users\\pravi\\anaconda3\\envs\\deepl2\\lib\\site-packages\\tqdm\\auto.py:22: TqdmWarning: IProgress not found. Please update jupyter and ipywidgets. See https://ipywidgets.readthedocs.io/en/stable/user_install.html\n",
      "  from .autonotebook import tqdm as notebook_tqdm\n"
     ]
    }
   ],
   "source": [
    "import torch\n",
    "import torch.nn as nn\n",
    "import torch.nn.functional as F\n",
    "import torchvision\n",
    "import torchvision.transforms as transforms\n",
    "import matplotlib.pyplot as plt\n",
    "import numpy as np"
   ]
  },
  {
   "cell_type": "code",
   "execution_count": 2,
   "id": "15404262",
   "metadata": {},
   "outputs": [],
   "source": [
    "device = torch.device('cuda' if torch.cuda.is_available() else 'cpu')"
   ]
  },
  {
   "cell_type": "code",
   "execution_count": 3,
   "id": "8cb50788",
   "metadata": {},
   "outputs": [
    {
     "data": {
      "text/plain": [
       "device(type='cpu')"
      ]
     },
     "execution_count": 3,
     "metadata": {},
     "output_type": "execute_result"
    }
   ],
   "source": [
    "device"
   ]
  },
  {
   "cell_type": "code",
   "execution_count": 4,
   "id": "400a87f0",
   "metadata": {},
   "outputs": [],
   "source": [
    "num_epochs = 20\n",
    "batch_size = 4\n",
    "learning_rate =0.01"
   ]
  },
  {
   "cell_type": "code",
   "execution_count": 5,
   "id": "34149b05",
   "metadata": {},
   "outputs": [],
   "source": [
    "transform = transforms.Compose(\n",
    "[transforms.ToTensor(),\n",
    "transforms.Normalize((0.5,0.5,0.5),(0.5,0.5,0.5))])"
   ]
  },
  {
   "cell_type": "code",
   "execution_count": 6,
   "id": "b9e89179",
   "metadata": {},
   "outputs": [
    {
     "name": "stdout",
     "output_type": "stream",
     "text": [
      "Downloading https://www.cs.toronto.edu/~kriz/cifar-10-python.tar.gz to data\\cifar-10-python.tar.gz\n"
     ]
    },
    {
     "name": "stderr",
     "output_type": "stream",
     "text": [
      "170499072it [00:37, 4547927.88it/s]                               \n"
     ]
    },
    {
     "name": "stdout",
     "output_type": "stream",
     "text": [
      "Extracting data\\cifar-10-python.tar.gz to data\n"
     ]
    }
   ],
   "source": [
    "train_dataset = torchvision.datasets.CIFAR10(root='data',\n",
    "                                            train=True,\n",
    "                                            download=True,\n",
    "                                            transform=transform)"
   ]
  },
  {
   "cell_type": "code",
   "execution_count": 7,
   "id": "9163ce79",
   "metadata": {},
   "outputs": [
    {
     "name": "stdout",
     "output_type": "stream",
     "text": [
      "Files already downloaded and verified\n"
     ]
    }
   ],
   "source": [
    "test_dataset = torchvision.datasets.CIFAR10(root='data',\n",
    "                                            train=False,\n",
    "                                            download=True,\n",
    "                                            transform=transform)"
   ]
  },
  {
   "cell_type": "code",
   "execution_count": 8,
   "id": "9cfac72e",
   "metadata": {},
   "outputs": [
    {
     "data": {
      "text/plain": [
       "Dataset CIFAR10\n",
       "    Number of datapoints: 50000\n",
       "    Root location: data\n",
       "    Split: Train\n",
       "    StandardTransform\n",
       "Transform: Compose(\n",
       "               ToTensor()\n",
       "               Normalize(mean=(0.5, 0.5, 0.5), std=(0.5, 0.5, 0.5))\n",
       "           )"
      ]
     },
     "execution_count": 8,
     "metadata": {},
     "output_type": "execute_result"
    }
   ],
   "source": [
    "train_dataset"
   ]
  },
  {
   "cell_type": "code",
   "execution_count": 9,
   "id": "f4482944",
   "metadata": {},
   "outputs": [],
   "source": [
    "train_loader = torch.utils.data.DataLoader(dataset=train_dataset,\n",
    "                                          batch_size=batch_size,\n",
    "                                          shuffle=True)"
   ]
  },
  {
   "cell_type": "code",
   "execution_count": 10,
   "id": "10fd21a3",
   "metadata": {},
   "outputs": [
    {
     "data": {
      "text/plain": [
       "torch.Size([4, 3, 32, 32])"
      ]
     },
     "execution_count": 10,
     "metadata": {},
     "output_type": "execute_result"
    }
   ],
   "source": [
    "examples = iter(train_loader)\n",
    "samples ,labels = examples.next()\n",
    "samples.shape"
   ]
  },
  {
   "cell_type": "code",
   "execution_count": 11,
   "id": "b3f201d0",
   "metadata": {},
   "outputs": [],
   "source": [
    "test_loader = torch.utils.data.DataLoader(dataset=test_dataset,\n",
    "                                         batch_size = batch_size,\n",
    "                                         shuffle = False)"
   ]
  },
  {
   "cell_type": "code",
   "execution_count": 12,
   "id": "2d6f838b",
   "metadata": {},
   "outputs": [],
   "source": [
    "classes = ('plane','car','bird','cat','deer','dog','frog','horse','ship','truck')"
   ]
  },
  {
   "cell_type": "code",
   "execution_count": 13,
   "id": "19490aab",
   "metadata": {},
   "outputs": [
    {
     "data": {
      "text/plain": [
       "('plane',\n",
       " 'car',\n",
       " 'bird',\n",
       " 'cat',\n",
       " 'deer',\n",
       " 'dog',\n",
       " 'frog',\n",
       " 'horse',\n",
       " 'ship',\n",
       " 'truck')"
      ]
     },
     "execution_count": 13,
     "metadata": {},
     "output_type": "execute_result"
    }
   ],
   "source": [
    "classes"
   ]
  },
  {
   "cell_type": "code",
   "execution_count": 14,
   "id": "0f1d71f6",
   "metadata": {},
   "outputs": [],
   "source": [
    "class ConvNet(nn.Module):\n",
    "    def __init__(self):\n",
    "        super(ConvNet,self).__init__()\n",
    "        self.conv1 = nn.Conv2d(3,6,5)\n",
    "        self.pool = nn.MaxPool2d(2,2)\n",
    "        self.conv2 = nn.Conv2d(6,16,5)\n",
    "        self.fc1 = nn.Linear(16*5*5,120)\n",
    "        self.fc2 = nn.Linear(120,84)\n",
    "        self.fc3 = nn.Linear(84,10)\n",
    "    def forward(self,x):\n",
    "        x = self.pool(F.relu(self.conv1(x)))\n",
    "        x = self.pool(F.relu(self.conv2(x)))\n",
    "        x = x.view(-1,16*5*5)\n",
    "        x = F.relu(self.fc1(x))\n",
    "        x = F.relu(self.fc2(x))\n",
    "        x = self.fc3(x)\n",
    "        return x"
   ]
  },
  {
   "cell_type": "code",
   "execution_count": 15,
   "id": "1769fbee",
   "metadata": {},
   "outputs": [],
   "source": [
    "model = ConvNet().to(device)"
   ]
  },
  {
   "cell_type": "code",
   "execution_count": 16,
   "id": "ef44b0a3",
   "metadata": {},
   "outputs": [
    {
     "data": {
      "text/plain": [
       "ConvNet(\n",
       "  (conv1): Conv2d(3, 6, kernel_size=(5, 5), stride=(1, 1))\n",
       "  (pool): MaxPool2d(kernel_size=2, stride=2, padding=0, dilation=1, ceil_mode=False)\n",
       "  (conv2): Conv2d(6, 16, kernel_size=(5, 5), stride=(1, 1))\n",
       "  (fc1): Linear(in_features=400, out_features=120, bias=True)\n",
       "  (fc2): Linear(in_features=120, out_features=84, bias=True)\n",
       "  (fc3): Linear(in_features=84, out_features=10, bias=True)\n",
       ")"
      ]
     },
     "execution_count": 16,
     "metadata": {},
     "output_type": "execute_result"
    }
   ],
   "source": [
    "model"
   ]
  },
  {
   "cell_type": "code",
   "execution_count": 17,
   "id": "2bcbc618",
   "metadata": {},
   "outputs": [],
   "source": [
    "criterion = nn.CrossEntropyLoss()\n",
    "optimizer = torch.optim.Adam(model.parameters(),lr=learning_rate)"
   ]
  },
  {
   "cell_type": "code",
   "execution_count": 18,
   "id": "28f4b9af",
   "metadata": {},
   "outputs": [
    {
     "name": "stdout",
     "output_type": "stream",
     "text": [
      "Epoch [1/20],step [2000/12500],loss: 1.8689\n",
      "Epoch [1/20],step [4000/12500],loss: 2.0747\n",
      "Epoch [1/20],step [6000/12500],loss: 1.9382\n",
      "Epoch [1/20],step [8000/12500],loss: 2.8042\n",
      "Epoch [1/20],step [10000/12500],loss: 2.0598\n",
      "Epoch [1/20],step [12000/12500],loss: 2.0946\n",
      "Epoch [2/20],step [2000/12500],loss: 2.5562\n",
      "Epoch [2/20],step [4000/12500],loss: 1.5493\n",
      "Epoch [2/20],step [6000/12500],loss: 2.0556\n",
      "Epoch [2/20],step [8000/12500],loss: 3.1823\n",
      "Epoch [2/20],step [10000/12500],loss: 2.2360\n",
      "Epoch [2/20],step [12000/12500],loss: 1.9236\n",
      "Epoch [3/20],step [2000/12500],loss: 3.0109\n",
      "Epoch [3/20],step [4000/12500],loss: 1.9720\n",
      "Epoch [3/20],step [6000/12500],loss: 1.6221\n",
      "Epoch [3/20],step [8000/12500],loss: 2.3123\n",
      "Epoch [3/20],step [10000/12500],loss: 2.0018\n",
      "Epoch [3/20],step [12000/12500],loss: 1.9697\n",
      "Epoch [4/20],step [2000/12500],loss: 1.9496\n",
      "Epoch [4/20],step [4000/12500],loss: 2.0087\n",
      "Epoch [4/20],step [6000/12500],loss: 2.3504\n",
      "Epoch [4/20],step [8000/12500],loss: 1.7056\n",
      "Epoch [4/20],step [10000/12500],loss: 1.7633\n",
      "Epoch [4/20],step [12000/12500],loss: 2.3490\n",
      "Epoch [5/20],step [2000/12500],loss: 2.8875\n",
      "Epoch [5/20],step [4000/12500],loss: 1.9905\n",
      "Epoch [5/20],step [6000/12500],loss: 1.9753\n",
      "Epoch [5/20],step [8000/12500],loss: 2.1310\n",
      "Epoch [5/20],step [10000/12500],loss: 2.3183\n",
      "Epoch [5/20],step [12000/12500],loss: 2.2836\n",
      "Epoch [6/20],step [2000/12500],loss: 2.4027\n",
      "Epoch [6/20],step [4000/12500],loss: 1.9930\n",
      "Epoch [6/20],step [6000/12500],loss: 2.2972\n",
      "Epoch [6/20],step [8000/12500],loss: 2.2403\n",
      "Epoch [6/20],step [10000/12500],loss: 2.1324\n",
      "Epoch [6/20],step [12000/12500],loss: 2.3982\n",
      "Epoch [7/20],step [2000/12500],loss: 2.5945\n",
      "Epoch [7/20],step [4000/12500],loss: 2.1056\n",
      "Epoch [7/20],step [6000/12500],loss: 2.0163\n",
      "Epoch [7/20],step [8000/12500],loss: 2.1269\n",
      "Epoch [7/20],step [10000/12500],loss: 1.8724\n",
      "Epoch [7/20],step [12000/12500],loss: 1.9213\n",
      "Epoch [8/20],step [2000/12500],loss: 2.5105\n",
      "Epoch [8/20],step [4000/12500],loss: 1.9981\n",
      "Epoch [8/20],step [6000/12500],loss: 2.0332\n",
      "Epoch [8/20],step [8000/12500],loss: 1.9690\n",
      "Epoch [8/20],step [10000/12500],loss: 2.3279\n",
      "Epoch [8/20],step [12000/12500],loss: 3.2106\n",
      "Epoch [9/20],step [2000/12500],loss: 2.2321\n",
      "Epoch [9/20],step [4000/12500],loss: 2.2718\n",
      "Epoch [9/20],step [6000/12500],loss: 2.1853\n",
      "Epoch [9/20],step [8000/12500],loss: 2.0755\n",
      "Epoch [9/20],step [10000/12500],loss: 2.0064\n",
      "Epoch [9/20],step [12000/12500],loss: 2.1386\n",
      "Epoch [10/20],step [2000/12500],loss: 2.4186\n",
      "Epoch [10/20],step [4000/12500],loss: 1.8669\n",
      "Epoch [10/20],step [6000/12500],loss: 2.3339\n",
      "Epoch [10/20],step [8000/12500],loss: 2.2445\n",
      "Epoch [10/20],step [10000/12500],loss: 1.9851\n",
      "Epoch [10/20],step [12000/12500],loss: 2.2885\n",
      "Epoch [11/20],step [2000/12500],loss: 2.6365\n",
      "Epoch [11/20],step [4000/12500],loss: 2.0454\n",
      "Epoch [11/20],step [6000/12500],loss: 1.9611\n",
      "Epoch [11/20],step [8000/12500],loss: 2.2331\n",
      "Epoch [11/20],step [10000/12500],loss: 2.0984\n",
      "Epoch [11/20],step [12000/12500],loss: 2.1570\n",
      "Epoch [12/20],step [2000/12500],loss: 1.8592\n",
      "Epoch [12/20],step [4000/12500],loss: 1.8969\n",
      "Epoch [12/20],step [6000/12500],loss: 1.9900\n",
      "Epoch [12/20],step [8000/12500],loss: 2.0984\n",
      "Epoch [12/20],step [10000/12500],loss: 2.2308\n",
      "Epoch [12/20],step [12000/12500],loss: 2.1977\n",
      "Epoch [13/20],step [2000/12500],loss: 2.3437\n",
      "Epoch [13/20],step [4000/12500],loss: 2.2650\n",
      "Epoch [13/20],step [6000/12500],loss: 2.2643\n",
      "Epoch [13/20],step [8000/12500],loss: 2.2835\n",
      "Epoch [13/20],step [10000/12500],loss: 2.1371\n",
      "Epoch [13/20],step [12000/12500],loss: 2.0995\n",
      "Epoch [14/20],step [2000/12500],loss: 2.0997\n",
      "Epoch [14/20],step [4000/12500],loss: 2.0704\n",
      "Epoch [14/20],step [6000/12500],loss: 2.2720\n",
      "Epoch [14/20],step [8000/12500],loss: 2.1738\n",
      "Epoch [14/20],step [10000/12500],loss: 1.9583\n",
      "Epoch [14/20],step [12000/12500],loss: 2.3964\n",
      "Epoch [15/20],step [2000/12500],loss: 2.2083\n",
      "Epoch [15/20],step [4000/12500],loss: 1.9483\n",
      "Epoch [15/20],step [6000/12500],loss: 1.8300\n",
      "Epoch [15/20],step [8000/12500],loss: 2.3167\n",
      "Epoch [15/20],step [10000/12500],loss: 2.2068\n",
      "Epoch [15/20],step [12000/12500],loss: 2.0433\n",
      "Epoch [16/20],step [2000/12500],loss: 2.2190\n",
      "Epoch [16/20],step [4000/12500],loss: 1.9916\n",
      "Epoch [16/20],step [6000/12500],loss: 1.8752\n",
      "Epoch [16/20],step [8000/12500],loss: 2.2120\n",
      "Epoch [16/20],step [10000/12500],loss: 1.8921\n",
      "Epoch [16/20],step [12000/12500],loss: 2.3094\n",
      "Epoch [17/20],step [2000/12500],loss: 2.2547\n",
      "Epoch [17/20],step [4000/12500],loss: 2.3243\n",
      "Epoch [17/20],step [6000/12500],loss: 2.1854\n",
      "Epoch [17/20],step [8000/12500],loss: 2.1554\n",
      "Epoch [17/20],step [10000/12500],loss: 2.1470\n",
      "Epoch [17/20],step [12000/12500],loss: 2.2906\n",
      "Epoch [18/20],step [2000/12500],loss: 2.3006\n",
      "Epoch [18/20],step [4000/12500],loss: 2.0390\n",
      "Epoch [18/20],step [6000/12500],loss: 2.1578\n",
      "Epoch [18/20],step [8000/12500],loss: 2.0971\n",
      "Epoch [18/20],step [10000/12500],loss: 2.3617\n",
      "Epoch [18/20],step [12000/12500],loss: 2.3407\n",
      "Epoch [19/20],step [2000/12500],loss: 2.2030\n",
      "Epoch [19/20],step [4000/12500],loss: 2.3060\n",
      "Epoch [19/20],step [6000/12500],loss: 2.2017\n",
      "Epoch [19/20],step [8000/12500],loss: 2.3441\n",
      "Epoch [19/20],step [10000/12500],loss: 2.4546\n",
      "Epoch [19/20],step [12000/12500],loss: 2.3755\n",
      "Epoch [20/20],step [2000/12500],loss: 2.0509\n",
      "Epoch [20/20],step [4000/12500],loss: 2.5854\n",
      "Epoch [20/20],step [6000/12500],loss: 2.4927\n",
      "Epoch [20/20],step [8000/12500],loss: 2.5975\n",
      "Epoch [20/20],step [10000/12500],loss: 1.9234\n",
      "Epoch [20/20],step [12000/12500],loss: 2.1449\n",
      "Finished Traing\n"
     ]
    }
   ],
   "source": [
    "n_total_steps = len(train_loader)\n",
    "for epoch in range(num_epochs):\n",
    "    for i, (images,labels) in enumerate(train_loader):\n",
    "        images = images.to(device)\n",
    "        labels = labels.to(device)\n",
    "        #forward\n",
    "        outputs = model(images)\n",
    "        loss = criterion(outputs,labels)\n",
    "        #backword\n",
    "        optimizer.zero_grad()\n",
    "        loss.backward()\n",
    "        optimizer.step()\n",
    "        if (i+1) % 2000 == 0:\n",
    "            print(f'Epoch [{epoch+1}/{num_epochs}],step [{i+1}/{n_total_steps}],loss: {loss.item():.4f}')\n",
    "print(\"Finished Traing\")"
   ]
  },
  {
   "cell_type": "code",
   "execution_count": 19,
   "id": "741ac19a",
   "metadata": {},
   "outputs": [
    {
     "name": "stdout",
     "output_type": "stream",
     "text": [
      "accuracy: 10.0%\n",
      "accuracy of plane:100.0%\n",
      "accuracy of car:0.0%\n",
      "accuracy of bird:0.0%\n",
      "accuracy of cat:0.0%\n",
      "accuracy of deer:0.0%\n",
      "accuracy of dog:0.0%\n",
      "accuracy of frog:0.0%\n",
      "accuracy of horse:0.0%\n",
      "accuracy of ship:0.0%\n",
      "accuracy of truck:0.0%\n"
     ]
    }
   ],
   "source": [
    "with torch.no_grad():\n",
    "    n_correct = 0\n",
    "    n_samples = 0\n",
    "    n_class_correct = [0 for i in range(10)]\n",
    "    n_class_samples = [0 for i in range(10)]\n",
    "    for images,labels in test_loader:\n",
    "        images = images.to(device)\n",
    "        labels = labels.to(device)\n",
    "        outputs = model(images)\n",
    "        _,predicted = torch.max(outputs,1)\n",
    "        n_samples += labels.size(0)\n",
    "        n_correct += (predicted==labels).sum().item()\n",
    "        for i in range(batch_size):\n",
    "            label = labels[i]\n",
    "            pred = predicted[i]\n",
    "            if (label==pred):\n",
    "                n_class_correct[label] +=1\n",
    "            n_class_samples[label]+=1\n",
    "    acc = 100.0 * n_correct/n_samples\n",
    "    print(f'accuracy: {acc}%')\n",
    "    for i in range(10):\n",
    "        acc =100.0 *n_class_correct[i]/n_class_samples[i]\n",
    "        print(f'accuracy of {classes[i]}:{acc}%')"
   ]
  },
  {
   "cell_type": "code",
   "execution_count": 20,
   "id": "cbdbc6b3",
   "metadata": {},
   "outputs": [
    {
     "data": {
      "text/plain": [
       "4"
      ]
     },
     "execution_count": 20,
     "metadata": {},
     "output_type": "execute_result"
    }
   ],
   "source": [
    "batch_size"
   ]
  },
  {
   "cell_type": "code",
   "execution_count": null,
   "id": "5616dd00",
   "metadata": {},
   "outputs": [],
   "source": []
  }
 ],
 "metadata": {
  "kernelspec": {
   "display_name": "Python 3",
   "language": "python",
   "name": "python3"
  },
  "language_info": {
   "codemirror_mode": {
    "name": "ipython",
    "version": 3
   },
   "file_extension": ".py",
   "mimetype": "text/x-python",
   "name": "python",
   "nbconvert_exporter": "python",
   "pygments_lexer": "ipython3",
   "version": "3.6.13"
  }
 },
 "nbformat": 4,
 "nbformat_minor": 5
}
